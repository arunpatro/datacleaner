{
 "cells": [
  {
   "cell_type": "code",
   "execution_count": 5,
   "metadata": {},
   "outputs": [
    {
     "name": "stdout",
     "output_type": "stream",
     "text": [
      "Before compression:\n",
      "\n",
      "After compression:\n"
     ]
    },
    {
     "data": {
      "text/plain": [
       "'trie_after_compression.png'"
      ]
     },
     "execution_count": 5,
     "metadata": {},
     "output_type": "execute_result"
    }
   ],
   "source": [
    "from graphviz import Digraph\n",
    "\n",
    "class TrieNode:\n",
    "    def __init__(self, key=\"\"):\n",
    "        self.key = key\n",
    "        self.children = {}\n",
    "        self.is_end_of_path = False\n",
    "\n",
    "class Trie:\n",
    "    def __init__(self):\n",
    "        self.root = TrieNode()\n",
    "\n",
    "    def insert(self, path):\n",
    "        current = self.root\n",
    "        for part in path.split('/'):\n",
    "            if part not in current.children:\n",
    "                current.children[part] = TrieNode(part)\n",
    "            current = current.children[part]\n",
    "        current.is_end_of_path = True\n",
    "\n",
    "    def compress(self):\n",
    "        def compress_node(node):\n",
    "            keys_to_compress = list(node.children.keys())\n",
    "            for key in keys_to_compress:\n",
    "                child = node.children[key]\n",
    "                while len(child.children) == 1 and not child.is_end_of_path:\n",
    "                    grandchild_key = next(iter(child.children))\n",
    "                    grandchild = child.children[grandchild_key]\n",
    "                    child.key += '/' + grandchild_key\n",
    "                    child.children = grandchild.children\n",
    "                    child.is_end_of_path = grandchild.is_end_of_path\n",
    "                compress_node(child)\n",
    "        \n",
    "        compress_node(self.root)\n",
    "\n",
    "    def display(self):\n",
    "        dot = Digraph()\n",
    "        dot.node('root', 'root', style='filled', fillcolor='lightgray')\n",
    "        \n",
    "        def add_edges(node, parent_key):\n",
    "            for key, child in node.children.items():\n",
    "                if '.' in key:  # Assuming base file names contain a dot (e.g., 'xyz.png')\n",
    "                    dot.node(child.key, child.key, style='filled', fillcolor='lightgray')\n",
    "                else:\n",
    "                    dot.node(child.key, child.key)\n",
    "                dot.edge(parent_key, child.key)\n",
    "                add_edges(child, child.key)\n",
    "        \n",
    "        add_edges(self.root, 'root')\n",
    "        return dot\n",
    "\n",
    "# Example usage:\n",
    "paths = [\n",
    "    \"/abcd/adfad/adfa/adfdf/xyz.png\",\n",
    "    \"/abcd/adfad/adfa/adfdf/abc.png\",\n",
    "    \"/abcd/adfad/adfa/abc.png\"\n",
    "]\n",
    "\n",
    "trie = Trie()\n",
    "for path in paths:\n",
    "    trie.insert(path)\n",
    "\n",
    "print(\"Before compression:\")\n",
    "dot = trie.display()\n",
    "dot.render('trie_before_compression', format='png', cleanup=True)\n",
    "\n",
    "trie.compress()\n",
    "\n",
    "print(\"\\nAfter compression:\")\n",
    "dot = trie.display()\n",
    "dot.render('trie_after_compression', format='png', cleanup=True)\n"
   ]
  },
  {
   "cell_type": "code",
   "execution_count": null,
   "metadata": {},
   "outputs": [],
   "source": []
  },
  {
   "cell_type": "code",
   "execution_count": null,
   "metadata": {},
   "outputs": [],
   "source": []
  }
 ],
 "metadata": {
  "kernelspec": {
   "display_name": "arun",
   "language": "python",
   "name": "python3"
  },
  "language_info": {
   "codemirror_mode": {
    "name": "ipython",
    "version": 3
   },
   "file_extension": ".py",
   "mimetype": "text/x-python",
   "name": "python",
   "nbconvert_exporter": "python",
   "pygments_lexer": "ipython3",
   "version": "3.12.2"
  }
 },
 "nbformat": 4,
 "nbformat_minor": 2
}
